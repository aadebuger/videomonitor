{
 "cells": [
  {
   "cell_type": "code",
   "execution_count": 1,
   "metadata": {
    "ExecuteTime": {
     "end_time": "2019-10-07T14:20:11.529697Z",
     "start_time": "2019-10-07T14:20:10.515053Z"
    }
   },
   "outputs": [
    {
     "name": "stdout",
     "output_type": "stream",
     "text": [
      "hello\n",
      "1.000791072845459\n"
     ]
    }
   ],
   "source": [
    "import time\n",
    "start = time.time()\n",
    "print(\"hello\")\n",
    "time.sleep(1)\n",
    "end = time.time()\n",
    "print(end - start)\n",
    "import ipywidgets as widgets"
   ]
  },
  {
   "cell_type": "code",
   "execution_count": 5,
   "metadata": {
    "ExecuteTime": {
     "end_time": "2019-10-07T14:30:57.807037Z",
     "start_time": "2019-10-07T14:30:57.722156Z"
    }
   },
   "outputs": [
    {
     "ename": "error",
     "evalue": "OpenCV(4.0.0) /Users/travis/build/skvark/opencv-python/opencv/modules/imgcodecs/src/grfmt_base.cpp:145: error: (-10:Unknown error code -10) Raw image encoder error: Empty JPEG image (DNL not supported) in function 'throwOnEror'\n",
     "output_type": "error",
     "traceback": [
      "\u001b[0;31m---------------------------------------------------------------------------\u001b[0m",
      "\u001b[0;31merror\u001b[0m                                     Traceback (most recent call last)",
      "\u001b[0;32m<ipython-input-5-25ac7c5e8819>\u001b[0m in \u001b[0;36m<module>\u001b[0;34m\u001b[0m\n\u001b[1;32m     16\u001b[0m \u001b[0;34m\u001b[0m\u001b[0m\n\u001b[1;32m     17\u001b[0m \u001b[0mret\u001b[0m\u001b[0;34m,\u001b[0m \u001b[0mframe\u001b[0m \u001b[0;34m=\u001b[0m \u001b[0mcap\u001b[0m\u001b[0;34m.\u001b[0m\u001b[0mread\u001b[0m\u001b[0;34m(\u001b[0m\u001b[0;34m)\u001b[0m\u001b[0;34m\u001b[0m\u001b[0m\n\u001b[0;32m---> 18\u001b[0;31m \u001b[0mimg_str\u001b[0m \u001b[0;34m=\u001b[0m \u001b[0mcv2\u001b[0m\u001b[0;34m.\u001b[0m\u001b[0mimencode\u001b[0m\u001b[0;34m(\u001b[0m\u001b[0;34m'.jpg'\u001b[0m\u001b[0;34m,\u001b[0m \u001b[0mframe\u001b[0m\u001b[0;34m)\u001b[0m\u001b[0;34m[\u001b[0m\u001b[0;36m1\u001b[0m\u001b[0;34m]\u001b[0m\u001b[0;34m.\u001b[0m\u001b[0mtostring\u001b[0m\u001b[0;34m(\u001b[0m\u001b[0;34m)\u001b[0m\u001b[0;34m\u001b[0m\u001b[0m\n\u001b[0m\u001b[1;32m     19\u001b[0m image1=widgets.Image(\n\u001b[1;32m     20\u001b[0m     \u001b[0mvalue\u001b[0m\u001b[0;34m=\u001b[0m\u001b[0mimg_str\u001b[0m\u001b[0;34m,\u001b[0m\u001b[0;34m\u001b[0m\u001b[0m\n",
      "\u001b[0;31merror\u001b[0m: OpenCV(4.0.0) /Users/travis/build/skvark/opencv-python/opencv/modules/imgcodecs/src/grfmt_base.cpp:145: error: (-10:Unknown error code -10) Raw image encoder error: Empty JPEG image (DNL not supported) in function 'throwOnEror'\n"
     ]
    }
   ],
   "source": [
    "import numpy as np\n",
    "import cv2\n",
    "\n",
    "\n",
    "\n",
    "cap = cv2.VideoCapture(2)\n",
    "#cap.set(3,1280)\n",
    "#cap.set(4,720)\n",
    "cap.set(3,640)\n",
    "cap.set(4,480)\n",
    "\n",
    "\n",
    "\n",
    "fourcc = cv2.VideoWriter_fourcc(*'MP4V')\n",
    "out = cv2.VideoWriter('monitor100701.mp4', fourcc, 20.0, (640,480))\n",
    "\n",
    "ret, frame = cap.read()\n",
    "img_str = cv2.imencode('.jpg', frame)[1].tostring()\n",
    "image1=widgets.Image(\n",
    "    value=img_str,\n",
    "    format='jpg',\n",
    "    width=300,\n",
    "    height=400,\n",
    ")\n",
    "display(image1)\n",
    "\n",
    "import time\n",
    "start = time.time()\n",
    "while(True):\n",
    "    ret, frame = cap.read()\n",
    "    out.write(frame)\n",
    "    img_str = cv2.imencode('.jpg', frame)[1].tostring()\n",
    "    image1.value=img_str    \n",
    "    end = time.time()\n",
    "    if ( (end-start)>80):\n",
    "        break\n",
    "cap.release()\n",
    "out.release()"
   ]
  },
  {
   "cell_type": "code",
   "execution_count": 3,
   "metadata": {
    "ExecuteTime": {
     "end_time": "2019-10-07T14:20:30.792378Z",
     "start_time": "2019-10-07T14:20:30.761824Z"
    }
   },
   "outputs": [],
   "source": [
    "import numpy as np\n",
    "import cv2\n",
    "def capturevideo(videofilename):\n",
    "\n",
    "\n",
    "\n",
    "\n",
    "        cap = cv2.VideoCapture(1)\n",
    "        #cap.set(3,1280)\n",
    "        #cap.set(4,720)\n",
    "        cap.set(3,640)\n",
    "        cap.set(4,480)\n",
    "\n",
    "\n",
    "\n",
    "        fourcc = cv2.VideoWriter_fourcc(*'MP4V')\n",
    "        out = cv2.VideoWriter(videofilename, fourcc, 20.0, (640,480))\n",
    "\n",
    "        ret, frame = cap.read()\n",
    "        img_str = cv2.imencode('.jpg', frame)[1].tostring()\n",
    "        image1=widgets.Image(\n",
    "            value=img_str,\n",
    "            format='jpg',\n",
    "            width=300,\n",
    "            height=400,\n",
    "        )\n",
    "        display(image1)\n",
    "\n",
    "        import time\n",
    "        start = time.time()\n",
    "        while(True):\n",
    "            ret, frame = cap.read()\n",
    "            out.write(frame)\n",
    "            img_str = cv2.imencode('.jpg', frame)[1].tostring()\n",
    "            image1.value=img_str    \n",
    "            end = time.time()\n",
    "            if ( (end-start)>480):\n",
    "                break\n",
    "        cap.release()\n",
    "        out.release()"
   ]
  },
  {
   "cell_type": "code",
   "execution_count": null,
   "metadata": {},
   "outputs": [],
   "source": [
    "filename='monitor090502.mp4'\n"
   ]
  }
 ],
 "metadata": {
  "kernelspec": {
   "display_name": "Python 3",
   "language": "python",
   "name": "python3"
  },
  "language_info": {
   "codemirror_mode": {
    "name": "ipython",
    "version": 3
   },
   "file_extension": ".py",
   "mimetype": "text/x-python",
   "name": "python",
   "nbconvert_exporter": "python",
   "pygments_lexer": "ipython3",
   "version": "3.6.5"
  }
 },
 "nbformat": 4,
 "nbformat_minor": 2
}
